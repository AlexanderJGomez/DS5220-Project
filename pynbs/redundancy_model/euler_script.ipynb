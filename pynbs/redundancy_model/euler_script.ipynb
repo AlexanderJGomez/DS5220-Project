{
 "cells": [
  {
   "cell_type": "code",
   "execution_count": 5,
   "metadata": {
    "collapsed": true
   },
   "outputs": [],
   "source": [
    "import tensorflow as tf\n",
    "import tensorflow_hub as hub\n",
    "import pandas as pd\n",
    "import csv\n",
    "import numpy as np\n",
    "summaries_location = \"../../data/DUC_Summary_Redundancy_Analysis/scores.csv\"\n",
    "sentence_embeddings_location = \"\""
   ]
  },
  {
   "cell_type": "code",
   "execution_count": 6,
   "metadata": {
    "collapsed": true
   },
   "outputs": [],
   "source": [
    "df = pd.read_csv(summaries_location)"
   ]
  },
  {
   "cell_type": "code",
   "execution_count": 7,
   "metadata": {
    "collapsed": true
   },
   "outputs": [],
   "source": [
    "sentences = []\n",
    "sentence_counts = []\n",
    "index = 0\n",
    "for _i, row in df.iterrows():\n",
    "    tokenized_sentences = row.summary.split(\"\\n\")\n",
    "    if tokenized_sentences[-1] == '':\n",
    "        del tokenized_sentences[-1]\n",
    "    sentence_counts.append(len(tokenized_sentences))\n",
    "    sentences.extend(tokenized_sentences)"
   ]
  },
  {
   "cell_type": "code",
   "execution_count": null,
   "metadata": {
    "collapsed": true
   },
   "outputs": [],
   "source": [
    "BATCH_SIZE = 200\n",
    "embed_batches = list(range(0, len(sentences), BATCH_SIZE))\n",
    "use_sentence_embeddings = []\n",
    "\n",
    "with tf.Graph().as_default():\n",
    "    embed = hub.Module(\"https://tfhub.dev/google/universal-sentence-encoder-large/3\")\n",
    "    tf.logging.set_verbosity(tf.logging.ERROR)\n",
    "    with tf.Session() as sess:\n",
    "        sess.run(tf.global_variables_initializer())\n",
    "        sess.run(tf.tables_initializer())\n",
    "        for batch_index in embed_batches:\n",
    "            print(batch_index)\n",
    "            embeddings = embed(sentences[batch_index:batch_index+BATCH_SIZE])\n",
    "            use_sentence_embeddings.extend(sess.run(embeddings))"
   ]
  },
  {
   "cell_type": "code",
   "execution_count": null,
   "metadata": {
    "collapsed": true
   },
   "outputs": [],
   "source": [
    "BATCH_SIZE = 200\n",
    "elmo_batches = list(range(0, len(sentences), BATCH_SIZE))\n",
    "elmo_sentence_embeddings = []\n",
    "with tf.Graph().as_default():\n",
    "    embed = hub.Module(\"https://tfhub.dev/google/elmo/2\", name=\"elmo\")\n",
    "    tf.logging.set_verbosity(tf.logging.ERROR)\n",
    "    with tf.Session() as sess:\n",
    "        sess.run(tf.global_variables_initializer())\n",
    "        sess.run(tf.tables_initializer())\n",
    "        for batch_index in elmo_batches:\n",
    "            print(batch_index)\n",
    "            embeddings = embed(sentences[batch_index:batch_index+BATCH_SIZE])\n",
    "            elmo_sentence_embeddings.extend(sess.run(embeddings))"
   ]
  },
  {
   "cell_type": "code",
   "execution_count": null,
   "metadata": {
    "collapsed": true
   },
   "outputs": [],
   "source": [
    "np.set_printoptions(suppress=True)\n",
    "                                          \n",
    "with open(sentence_embeddings_location + \"duc_use_embeddings.csv\", \"w\") as output:\n",
    "    writer = csv.writer(output, lineterminator='\\n')\n",
    "    writer.writerows(use_sentence_embeddings)\n",
    "        "
   ]
  },
  {
   "cell_type": "code",
   "execution_count": null,
   "metadata": {
    "collapsed": true
   },
   "outputs": [],
   "source": [
    "np.set_printoptions(suppress=True)\n",
    "                                          \n",
    "with open(sentence_embeddings_location + \"duc_elmo_embeddings.csv\", \"w\") as output:\n",
    "    writer = csv.writer(output, lineterminator='\\n')\n",
    "    writer.writerows(elmo_sentence_embeddings)"
   ]
  }
 ],
 "metadata": {
  "kernelspec": {
   "display_name": "Python 3",
   "language": "python",
   "name": "python3"
  },
  "language_info": {
   "codemirror_mode": {
    "name": "ipython",
    "version": 3
   },
   "file_extension": ".py",
   "mimetype": "text/x-python",
   "name": "python",
   "nbconvert_exporter": "python",
   "pygments_lexer": "ipython3",
   "version": "3.6.3"
  }
 },
 "nbformat": 4,
 "nbformat_minor": 2
}
