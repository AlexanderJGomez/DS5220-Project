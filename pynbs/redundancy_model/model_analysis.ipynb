{
 "cells": [
  {
   "cell_type": "markdown",
   "metadata": {},
   "source": [
    "# Testing SVM model with Stanford Data using Cross Validation with 10-fold split"
   ]
  },
  {
   "cell_type": "code",
   "execution_count": 164,
   "metadata": {
    "collapsed": true
   },
   "outputs": [],
   "source": [
    "import pandas as pd\n",
    "import numpy as np\n",
    "from scipy.stats import pearsonr, spearmanr\n",
    "import sqlite3 as sql\n",
    "from sklearn.svm import SVR, SVC\n",
    "from sklearn.metrics import r2_score\n",
    "from sklearn.linear_model import Lasso\n",
    "from sklearn.model_selection import KFold, GridSearchCV, cross_val_score\n",
    "from sklearn.ensemble import RandomForestRegressor\n",
    "import matplotlib.pyplot as plt\n",
    "features = [\"mean_elmo_redundancy\",\n",
    "            \"mean_use_redundancy\",\n",
    "            \"max_elmo_redundancy\",\n",
    "            \"max_use_redundancy\",\n",
    "            \"unigram_repetitions\",\n",
    "            \"bigram_repetitions\",\n",
    "            \"trigram_repetitions\",\n",
    "            \"lrs_score\",\n",
    "            \"adversarial_redundancy_score\"]"
   ]
  },
  {
   "cell_type": "code",
   "execution_count": 2,
   "metadata": {
    "collapsed": true
   },
   "outputs": [],
   "source": [
    "conn = sql.connect(\"../../data/system_summaries.db\")\n",
    "df = pd.read_sql(\"SELECT * FROM system_summaries\", conn)\n",
    "conn.close()"
   ]
  },
  {
   "cell_type": "code",
   "execution_count": 3,
   "metadata": {
    "collapsed": true
   },
   "outputs": [],
   "source": [
    "_unique_vals, indices = np.unique([row.system + str(row.id) for _, row in df.iterrows()], return_index=True)\n",
    "averaged_df = df.iloc[indices].sort_index()\n",
    "avg_redundancy_scores = []\n",
    "for index, row in averaged_df.iterrows():\n",
    "    all_scores = df[(row.id == df.id) & (row.system == df.system)].redundancy\n",
    "    avg_redundancy_scores.append(np.mean(all_scores))"
   ]
  },
  {
   "cell_type": "code",
   "execution_count": 4,
   "metadata": {
    "collapsed": true
   },
   "outputs": [],
   "source": [
    "df = averaged_df\n",
    "df['redundancy'] = avg_redundancy_scores"
   ]
  },
  {
   "cell_type": "code",
   "execution_count": 5,
   "metadata": {
    "collapsed": true
   },
   "outputs": [],
   "source": [
    "training_set = df.sample(frac=(4/5), random_state=33)\n",
    "test_set = df[~df.index.isin(training_set.index)]"
   ]
  },
  {
   "cell_type": "markdown",
   "metadata": {},
   "source": [
    "# Training and Testing Lasso Regression"
   ]
  },
  {
   "cell_type": "code",
   "execution_count": 121,
   "metadata": {},
   "outputs": [
    {
     "name": "stdout",
     "output_type": "stream",
     "text": [
      "{'alpha': 0.0001, 'normalize': True}\n"
     ]
    }
   ],
   "source": [
    "lasso_reg_alphas = [0.0001, 0.001, 0.01, 0.1, 1, 10, 100]\n",
    "lasso_reg_param_grid = {'alpha': lasso_reg_alphas, \"normalize\": [True]}\n",
    "lasso_grid_search = GridSearchCV(Lasso(), lasso_reg_param_grid, cv=5, scoring=\"neg_mean_squared_error\")\n",
    "lasso_grid_search.fit(training_set[features].values,\n",
    "                training_set.redundancy)\n",
    "print(lasso_grid_search.best_params_)"
   ]
  },
  {
   "cell_type": "code",
   "execution_count": 122,
   "metadata": {},
   "outputs": [
    {
     "name": "stdout",
     "output_type": "stream",
     "text": [
      "(0.73425170612442614, 9.0500285572593538e-69)\n",
      "SpearmanrResult(correlation=0.73725318384376537, pvalue=1.3327851629551775e-69)\n"
     ]
    }
   ],
   "source": [
    "lasso_reg = Lasso(alpha=0.0001, normalize=True)\n",
    "lasso_reg.fit(training_set[features].values,\n",
    "    training_set.redundancy)\n",
    "lasso_preds = lasso_reg.predict(test_set[features].values)\n",
    "print(pearsonr(lasso_preds,\n",
    "         test_set.redundancy))\n",
    "print(spearmanr(lasso_preds,\n",
    "         test_set.redundancy))"
   ]
  },
  {
   "cell_type": "code",
   "execution_count": 130,
   "metadata": {},
   "outputs": [
    {
     "data": {
      "image/png": "[encoded data removed]",
      "text/plain": [
       "<matplotlib.figure.Figure at 0x1a1f561f28>"
      ]
     },
     "metadata": {},
     "output_type": "display_data"
    }
   ],
   "source": [
    "plt.figure(figsize=(20,4))\n",
    "plt.bar(features, lasso_reg.coef_, )\n",
    "plt.show()"
   ]
  },
  {
   "cell_type": "code",
   "execution_count": 131,
   "metadata": {},
   "outputs": [
    {
     "data": {
      "text/plain": [
       "0.51269090974229226"
      ]
     },
     "execution_count": 131,
     "metadata": {},
     "output_type": "execute_result"
    }
   ],
   "source": [
    "r2_score(y_pred=ridge_preds, y_true=test_set.redundancy)"
   ]
  },
  {
   "cell_type": "markdown",
   "metadata": {},
   "source": [
    "# Training and Testing Support Vector Machines"
   ]
  },
  {
   "cell_type": "code",
   "execution_count": 124,
   "metadata": {},
   "outputs": [
    {
     "data": {
      "text/plain": [
       "GridSearchCV(cv=5, error_score='raise',\n",
       "       estimator=SVR(C=1.0, cache_size=200, coef0=0.0, degree=3, epsilon=0.1, gamma='auto',\n",
       "  kernel='rbf', max_iter=-1, shrinking=True, tol=0.001, verbose=False),\n",
       "       fit_params=None, iid=True, n_jobs=1,\n",
       "       param_grid={'C': [0.0001, 0.001, 0.01, 0.1, 1, 10], 'gamma': ['auto', 0.001, 0.01, 0.1, 1], 'kernel': ['rbf']},\n",
       "       pre_dispatch='2*n_jobs', refit=True, return_train_score='warn',\n",
       "       scoring='neg_mean_squared_error', verbose=0)"
      ]
     },
     "execution_count": 124,
     "metadata": {},
     "output_type": "execute_result"
    }
   ],
   "source": [
    "Cs = [0.0001, 0.001, 0.01, 0.1, 1, 10]\n",
    "gammas = [\"auto\", 0.001, 0.01, 0.1, 1]\n",
    "rbf_param_grid = {'C': Cs, 'gamma': gammas, 'kernel': [\"rbf\"]}\n",
    "rbf_grid_search = GridSearchCV(SVR(), rbf_param_grid, cv=5, scoring=\"neg_mean_squared_error\")\n",
    "rbf_grid_search.fit(training_set[features].values,\n",
    "                training_set.redundancy)"
   ]
  },
  {
   "cell_type": "code",
   "execution_count": 126,
   "metadata": {},
   "outputs": [
    {
     "data": {
      "text/plain": [
       "GridSearchCV(cv=5, error_score='raise',\n",
       "       estimator=SVR(C=1.0, cache_size=200, coef0=0.0, degree=3, epsilon=0.1, gamma='auto',\n",
       "  kernel='rbf', max_iter=-1, shrinking=True, tol=0.001, verbose=False),\n",
       "       fit_params=None, iid=True, n_jobs=-1,\n",
       "       param_grid={'C': [0.001, 0.01, 0.1, 1], 'gamma': ['auto', 0.001, 0.01, 0.1], 'kernel': ['poly'], 'degree': [2, 3]},\n",
       "       pre_dispatch='2*n_jobs', refit=True, return_train_score='warn',\n",
       "       scoring='neg_mean_squared_error', verbose=0)"
      ]
     },
     "execution_count": 126,
     "metadata": {},
     "output_type": "execute_result"
    }
   ],
   "source": [
    "Cs = [0.001, 0.01, 0.1, 1]\n",
    "gammas = [\"auto\", 0.001, 0.01, 0.1]\n",
    "degrees = [2, 3]\n",
    "poly_param_grid = {'C': Cs, 'gamma': gammas, 'kernel': [\"poly\"], \"degree\": degrees}\n",
    "poly_grid_search = GridSearchCV(SVR(), poly_param_grid, cv=5, scoring=\"neg_mean_squared_error\", n_jobs=-1)\n",
    "poly_grid_search.fit(training_set[features].values,\n",
    "                training_set.redundancy)"
   ]
  },
  {
   "cell_type": "code",
   "execution_count": 127,
   "metadata": {},
   "outputs": [
    {
     "data": {
      "text/plain": [
       "-0.26201964732055405"
      ]
     },
     "execution_count": 127,
     "metadata": {},
     "output_type": "execute_result"
    }
   ],
   "source": [
    "poly_grid_search.best_score_"
   ]
  },
  {
   "cell_type": "code",
   "execution_count": 125,
   "metadata": {},
   "outputs": [
    {
     "data": {
      "text/plain": [
       "-0.22505549430591459"
      ]
     },
     "execution_count": 125,
     "metadata": {},
     "output_type": "execute_result"
    }
   ],
   "source": [
    "rbf_grid_search.best_score_"
   ]
  },
  {
   "cell_type": "code",
   "execution_count": 113,
   "metadata": {},
   "outputs": [
    {
     "data": {
      "text/plain": [
       "{'C': 10, 'gamma': 0.01, 'kernel': 'rbf'}"
      ]
     },
     "execution_count": 113,
     "metadata": {},
     "output_type": "execute_result"
    }
   ],
   "source": [
    "rbf_grid_search.best_params_"
   ]
  },
  {
   "cell_type": "markdown",
   "metadata": {},
   "source": [
    "The RBF Kernel Performs much better so we will use its best parameters."
   ]
  },
  {
   "cell_type": "code",
   "execution_count": 132,
   "metadata": {},
   "outputs": [
    {
     "name": "stdout",
     "output_type": "stream",
     "text": [
      "(0.760299904167271, 2.1556971759160781e-76)\n",
      "SpearmanrResult(correlation=0.74494477176428497, pvalue=8.7063877856299008e-72)\n"
     ]
    }
   ],
   "source": [
    "sv_reg = SVR(C=10, gamma=0.01, kernel='rbf')\n",
    "sv_reg.fit(training_set[features].values,\n",
    "    training_set.redundancy)\n",
    "svm_preds = sv_reg.predict(test_set[features].values)\n",
    "print(pearsonr(svm_preds,\n",
    "         test_set.redundancy))\n",
    "print(spearmanr(svm_preds,\n",
    "         test_set.redundancy))"
   ]
  },
  {
   "cell_type": "code",
   "execution_count": 133,
   "metadata": {},
   "outputs": [
    {
     "data": {
      "text/plain": [
       "0.55872088970455347"
      ]
     },
     "execution_count": 133,
     "metadata": {},
     "output_type": "execute_result"
    }
   ],
   "source": [
    "r2_score(y_pred=svm_preds, y_true=test_set.redundancy)"
   ]
  },
  {
   "cell_type": "markdown",
   "metadata": {},
   "source": [
    "Now, what happens when we perform some feature selection based off the coefficients from the ridge Regression?\n",
    "- Remove\n",
    "    - lrs_score\n",
    "    - trigram_repetitions\n",
    "    - bigram_repetitions\n",
    "    - mean_elmo_redundancy"
   ]
  },
  {
   "cell_type": "code",
   "execution_count": 141,
   "metadata": {
    "collapsed": true
   },
   "outputs": [],
   "source": [
    "selected_features = [\"mean_use_redundancy\",\n",
    "                     \"max_elmo_redundancy\",\n",
    "                     \"max_use_redundancy\",\n",
    "                     \"unigram_repetitions\",\n",
    "                     \"adversarial_redundancy_score\"]\n"
   ]
  },
  {
   "cell_type": "markdown",
   "metadata": {},
   "source": [
    "# Training Support Vector Machine with Feature Selection"
   ]
  },
  {
   "cell_type": "code",
   "execution_count": 142,
   "metadata": {},
   "outputs": [
    {
     "data": {
      "text/plain": [
       "GridSearchCV(cv=5, error_score='raise',\n",
       "       estimator=SVR(C=1.0, cache_size=200, coef0=0.0, degree=3, epsilon=0.1, gamma='auto',\n",
       "  kernel='rbf', max_iter=-1, shrinking=True, tol=0.001, verbose=False),\n",
       "       fit_params=None, iid=True, n_jobs=1,\n",
       "       param_grid={'C': [0.0001, 0.001, 0.01, 0.1, 1, 10], 'gamma': ['auto', 0.001, 0.01, 0.1, 1], 'kernel': ['rbf']},\n",
       "       pre_dispatch='2*n_jobs', refit=True, return_train_score='warn',\n",
       "       scoring='neg_mean_squared_error', verbose=0)"
      ]
     },
     "execution_count": 142,
     "metadata": {},
     "output_type": "execute_result"
    }
   ],
   "source": [
    "rbf_grid_search2 = GridSearchCV(SVR(), rbf_param_grid, cv=5, scoring=\"neg_mean_squared_error\")\n",
    "rbf_grid_search2.fit(training_set[selected_features].values,\n",
    "                training_set.redundancy)"
   ]
  },
  {
   "cell_type": "code",
   "execution_count": 145,
   "metadata": {},
   "outputs": [
    {
     "data": {
      "text/plain": [
       "GridSearchCV(cv=5, error_score='raise',\n",
       "       estimator=SVR(C=1.0, cache_size=200, coef0=0.0, degree=3, epsilon=0.1, gamma='auto',\n",
       "  kernel='rbf', max_iter=-1, shrinking=True, tol=0.001, verbose=False),\n",
       "       fit_params=None, iid=True, n_jobs=-1,\n",
       "       param_grid={'C': [0.001, 0.01, 0.1, 1], 'gamma': ['auto', 0.001, 0.01, 0.1], 'kernel': ['poly'], 'degree': [2, 3]},\n",
       "       pre_dispatch='2*n_jobs', refit=True, return_train_score='warn',\n",
       "       scoring='neg_mean_squared_error', verbose=0)"
      ]
     },
     "execution_count": 145,
     "metadata": {},
     "output_type": "execute_result"
    }
   ],
   "source": [
    "poly_grid_search2 = GridSearchCV(SVR(), poly_param_grid, cv=5, scoring=\"neg_mean_squared_error\", n_jobs=-1)\n",
    "poly_grid_search2.fit(training_set[selected_features].values,\n",
    "                training_set.redundancy)"
   ]
  },
  {
   "cell_type": "code",
   "execution_count": 146,
   "metadata": {},
   "outputs": [
    {
     "data": {
      "text/plain": [
       "-0.25863197580754943"
      ]
     },
     "execution_count": 146,
     "metadata": {},
     "output_type": "execute_result"
    }
   ],
   "source": [
    "poly_grid_search2.best_score_"
   ]
  },
  {
   "cell_type": "code",
   "execution_count": 143,
   "metadata": {},
   "outputs": [
    {
     "data": {
      "text/plain": [
       "-0.22444161701224161"
      ]
     },
     "execution_count": 143,
     "metadata": {},
     "output_type": "execute_result"
    }
   ],
   "source": [
    "rbf_grid_search2.best_score_"
   ]
  },
  {
   "cell_type": "code",
   "execution_count": 149,
   "metadata": {},
   "outputs": [
    {
     "data": {
      "text/plain": [
       "{'C': 10, 'gamma': 0.01, 'kernel': 'rbf'}"
      ]
     },
     "execution_count": 149,
     "metadata": {},
     "output_type": "execute_result"
    }
   ],
   "source": [
    "rbf_grid_search2.best_params_"
   ]
  },
  {
   "cell_type": "code",
   "execution_count": 153,
   "metadata": {},
   "outputs": [
    {
     "name": "stdout",
     "output_type": "stream",
     "text": [
      "(0.7506530484974917, 1.8484858443224917e-73)\n",
      "SpearmanrResult(correlation=0.71940106718044428, pvalue=8.1608981714720518e-65)\n"
     ]
    }
   ],
   "source": [
    "sv_reg2 = SVR(C=10, gamma=0.01, kernel='rbf')\n",
    "sv_reg2.fit(training_set[selected_features].values,\n",
    "    training_set.redundancy)\n",
    "svm_preds2 = sv_reg2.predict(test_set[selected_features].values)\n",
    "print(pearsonr(svm_preds,\n",
    "         test_set.redundancy))\n",
    "print(spearmanr(svm_preds,\n",
    "         test_set.redundancy))"
   ]
  },
  {
   "cell_type": "code",
   "execution_count": 161,
   "metadata": {},
   "outputs": [
    {
     "data": {
      "image/png": "[encoded data removed]",
      "text/plain": [
       "<matplotlib.figure.Figure at 0x1a1b9c4b00>"
      ]
     },
     "metadata": {},
     "output_type": "display_data"
    }
   ],
   "source": [
    "plt.scatter(test_set.redundancy, svm_preds2, alpha=.1)\n",
    "plt.ylabel(\"Predicted Score\")\n",
    "plt.xlabel(\"Actual Score\")\n",
    "plt.show()"
   ]
  },
  {
   "cell_type": "code",
   "execution_count": 160,
   "metadata": {},
   "outputs": [
    {
     "data": {
      "text/plain": [
       "0.55059094599676972"
      ]
     },
     "execution_count": 160,
     "metadata": {},
     "output_type": "execute_result"
    }
   ],
   "source": [
    "r2_score(y_pred=svm_preds2, y_true=test_set.redundancy)"
   ]
  }
 ],
 "metadata": {
  "kernelspec": {
   "display_name": "Python 3",
   "language": "python",
   "name": "python3"
  },
  "language_info": {
   "codemirror_mode": {
    "name": "ipython",
    "version": 3
   },
   "file_extension": ".py",
   "mimetype": "text/x-python",
   "name": "python",
   "nbconvert_exporter": "python",
   "pygments_lexer": "ipython3",
   "version": "3.6.3"
  }
 },
 "nbformat": 4,
 "nbformat_minor": 2
}
