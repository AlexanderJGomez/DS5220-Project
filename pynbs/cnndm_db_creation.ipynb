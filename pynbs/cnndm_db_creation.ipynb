{
 "cells": [
  {
   "cell_type": "markdown",
   "metadata": {},
   "source": [
    "Putting json with scores for summaries into a json, and only looking at non reference summaries."
   ]
  },
  {
   "cell_type": "code",
   "execution_count": 1,
   "metadata": {
    "collapsed": true
   },
   "outputs": [],
   "source": [
    "import pandas as pd\n",
    "import numpy as np\n",
    "import sqlite3\n",
    "\n",
    "scores_df = pd.read_json(\"../data/scores.jsonl\", lines=True)\n",
    "summaries_df = pd.read_json(\"../data/summaries.jsonl\", lines=True)\n",
    "\n",
    "\n",
    "scores_df = scores_df[scores_df[\"system\"] != \"reference\"]\n",
    "scores_df[\"hter_gold\"] = [row[\"hter\"][\"gold\"] for row in scores_df['prompts']]\n",
    "scores_df[\"sim\"] = [row[\"hter\"][\"sim\"] for row in scores_df['prompts']]\n",
    "scores_df = scores_df.set_index([\"id\", \"system\"])\n",
    "\n",
    "summaries_df[\"has_edits\"] = [row[\"output\"][\"edit\"] is not None and row[\"input\"][\"contents\"][\"system\"] != \"reference\" for _, row in summaries_df.iterrows()]\n",
    "summaries_df[\"system\"] = [row[\"contents\"][\"system\"] for row in summaries_df[\"input\"]]\n",
    "summaries_df[\"id\"] = [int(row[\"contents\"][\"id\"]) for row in summaries_df[\"input\"]]\n",
    "summaries_df = summaries_df.set_index([\"id\", \"system\"])\n",
    "\n",
    "summaries_df = summaries_df[summaries_df[\"has_edits\"]]\n",
    "matches = scores_df.index.intersection(summaries_df.index)\n",
    "\n",
    "scores_df = scores_df.loc[matches.values]\n",
    "summaries_df = summaries_df.loc[matches.values]"
   ]
  },
  {
   "cell_type": "markdown",
   "metadata": {},
   "source": [
    "Putting all the relevant data into 1 dataframe"
   ]
  },
  {
   "cell_type": "code",
   "execution_count": 2,
   "metadata": {
    "scrolled": false
   },
   "outputs": [
    {
     "name": "stdout",
     "output_type": "stream",
     "text": [
      "(2192, 'ml+rl')\n",
      "(2199, 'pointer')\n",
      "(2263, 'pointer')\n",
      "(2501, 'pointer')\n",
      "(2828, 'pointer')\n",
      "(2836, 'ml')\n",
      "(3194, 'ml')\n",
      "(3457, 'ml+rl')\n",
      "(3953, 'pointer')\n",
      "(4856, 'ml')\n",
      "(8116, 'ml')\n",
      "(8283, 'seq2seq')\n",
      "(10549, 'ml+rl')\n",
      "(10929, 'ml+rl')\n",
      "(10930, 'seq2seq')\n"
     ]
    }
   ],
   "source": [
    "# edit_df = pd.DataFrame(columns=[\"id\", \"system\", \"edit\", \"hter\", \"sim\", \"system_summary\", \"reference\"])\n",
    "rows_list = []\n",
    "for _, row in summaries_df.iterrows():\n",
    "    human_eval_data = row[\"output\"][\"_responses\"]\n",
    "    input_data = row[\"input\"][\"contents\"]\n",
    "    post_edits = human_eval_data[\"edit\"]\n",
    "    if len(post_edits) != 2:\n",
    "        print(row.name)\n",
    "    for post_edit_index in range(len(post_edits)):\n",
    "        edit_row = {'system': row.name[1], 'id': row.name[0] }\n",
    "        edit_row[\"edit\"] = post_edits[post_edit_index]\n",
    "        edit_row[\"hter\"] = human_eval_data[\"hter\"][post_edit_index]\n",
    "        edit_row[\"annotator_id\"] = human_eval_data[\"worker_ids\"][post_edit_index]\n",
    "        edit_row[\"reference\"] = input_data[\"reference\"]\n",
    "        edit_row[\"system_summary\"] = input_data[\"text\"]\n",
    "        edit_row[\"sim\"] = scores_df.at[row.name, \"sim\"]\n",
    "        #weird 1 case where there are separate records for data for the same system and id\n",
    "        if type(scores_df.at[row.name, \"sim\"]) is np.ndarray:\n",
    "            continue\n",
    "        edit_row[\"overall\"] = human_eval_data[\"overall\"][post_edit_index]\n",
    "        edit_row[\"grammar\"] = human_eval_data[\"grammar\"][post_edit_index]\n",
    "        edit_row[\"redundancy\"] = human_eval_data[\"redundancy\"][post_edit_index]\n",
    "        \n",
    "\n",
    "        rows_list.append(edit_row)\n",
    "\n",
    "edits_df = pd.DataFrame(rows_list)\n"
   ]
  },
  {
   "cell_type": "markdown",
   "metadata": {},
   "source": [
    "Putting new data into a dataframe"
   ]
  },
  {
   "cell_type": "code",
   "execution_count": 3,
   "metadata": {
    "collapsed": true
   },
   "outputs": [],
   "source": [
    "conn = sqlite3.connect('../data/cdm_postedits.db')\n",
    "c = conn.cursor()\n",
    "rows = edits_df.values.tolist()\n",
    "\n",
    "c.execute('DROP TABLE IF EXISTS cdm_postedits;')\n",
    "\n",
    "# Create table\n",
    "c.execute('''CREATE TABLE cdm_postedits\n",
    "             (annotator_id integer, edit text, grammar integer, hter integer, id integer, overall integer, redundancy integer, reference text, sim real, system text, system_summary text)''')\n",
    "\n",
    "# Insert a row of data\n",
    "c.executemany('INSERT INTO cdm_postedits VALUES (?,?,?,?,?,?,?,?,?,?,?)', rows)\n",
    "\n",
    "# Save (commit) the changes\n",
    "conn.commit()\n",
    "\n",
    "\n",
    "conn.close()\n"
   ]
  }
 ],
 "metadata": {
  "kernelspec": {
   "display_name": "Python 3",
   "language": "python",
   "name": "python3"
  },
  "language_info": {
   "codemirror_mode": {
    "name": "ipython",
    "version": 3
   },
   "file_extension": ".py",
   "mimetype": "text/x-python",
   "name": "python",
   "nbconvert_exporter": "python",
   "pygments_lexer": "ipython3",
   "version": "3.6.3"
  }
 },
 "nbformat": 4,
 "nbformat_minor": 2
}
