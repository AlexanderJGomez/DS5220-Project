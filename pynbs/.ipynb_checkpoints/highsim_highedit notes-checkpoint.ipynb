{
 "cells": [
  {
   "cell_type": "markdown",
   "metadata": {},
   "source": [
    "This is the file where we look at the summaries that performed well on vector similarity but required a lot of editing during post-editing"
   ]
  },
  {
   "cell_type": "code",
   "execution_count": 16,
   "metadata": {
    "scrolled": false
   },
   "outputs": [
    {
     "name": "stdout",
     "output_type": "stream",
     "text": [
      "NEW ROW\n",
      "\n",
      "sim: 0.5791848051\n",
      "edit: 0.5\n",
      "grammar: 1\n",
      "overall: 0\n",
      "redundancy: -1\n",
      "\n",
      "reference:\n",
      "\n",
      "Shepard, 00, conned parents into believing he wasn't dangerous and even convinced them to let him babysit, police say. He raped and sexually abused at least seven children, including a girl as young as five, authorities allege. At a hearing to keep him locked up, one psychologist testified in his defense, the other said he was 'on the fence' about keeping Shepard behind bars. Shepard spent 00 years in prison for sexually abusing two boys and has a history of sex offense dating back two decades.\n",
      "\n",
      "\n",
      "system:\n",
      "\n",
      "Michael Shepard, 35, allegedly molested seven children in his apartment complex 18 months after he was released from prison by officials who voted to give him a second chance. He was released from prison by officials who voted to give him a second chance.\n",
      "\n",
      "\n",
      "post-edit:\n",
      "\n",
      "Michael Shepard, 35, allegedly molested seven children in his apartment complex 18 months after he was released from prison by officials who voted to give him a second chance. \n",
      "\n",
      "\n",
      "NEW ROW\n",
      "\n",
      "sim: 0.5111534688\n",
      "edit: 0.7096774194000001\n",
      "grammar: 0\n",
      "overall: 0\n",
      "redundancy: -1\n",
      "\n",
      "reference:\n",
      "\n",
      "Most Americans say businesses should not discriminate against same-sex weddings. Public opinion has shifted on the issue since last fall. Indiana passed and later changed its religious freedom law after public outcry.\n",
      "\n",
      "\n",
      "system:\n",
      "\n",
      "Nearly 6 in 10 Americans say they should be required to serve gay or lesbian couples just as they would heterosexual couples. A new poll finds 57% feel businesses like gazelle or ▃ should be required to serve gay or lesbian couples.\n",
      "\n",
      "\n",
      "post-edit:\n",
      "\n",
      "A new poll finds 57% of Americans feel that businesses like Gazelle or ▃ should be required to serve gay or lesbian couples just as they would heterosexual couples.\n",
      "\n",
      "\n",
      "NEW ROW\n",
      "\n",
      "sim: 0.7334240385\n",
      "edit: 0.7333333333000001\n",
      "grammar: 0\n",
      "overall: 0\n",
      "redundancy: 0\n",
      "\n",
      "reference:\n",
      "\n",
      "The Direct Marketing Commission probing B2C Data and Data Bubble. Investigating whether they breached rules on the sale of private data. Chief commissioner described allegations made about firms as ' serious '.\n",
      "\n",
      "\n",
      "system:\n",
      "\n",
      "▃ Data obtained by the Mail's marketing commission said it would probe both companies over claims that they had breached the rules on the sale of private data. The FSA said it would probe both companies over claims they had breached the rules on the sale of private data.\n",
      "\n",
      "\n",
      "post-edit:\n",
      "\n",
      "▃ Data obtained by the Mail's marketing commission said it would probe both companies over claims that they had breached the rules on the sale of private data. \n",
      "\n",
      "\n",
      "NEW ROW\n",
      "\n",
      "sim: 0.7004498729\n",
      "edit: 0.4761904762\n",
      "grammar: 0\n",
      "overall: -1\n",
      "redundancy: -1\n",
      "\n",
      "reference:\n",
      "\n",
      "The footage was captured on a warm day in Bali, Indonesia. Tour guide cools monkey down by spraying it with water. Monkey then picks up bottle and casually unscrews the lid. Primate has drink and remarkably spills very little liquid.\n",
      "\n",
      "\n",
      "system:\n",
      "\n",
      "Indonesia video shows a monkey interacting with a tour guide, who squirts water at the primate from a hole in a water bottle in a bid to cool it down with bottle in hand, the monkey took a drink. The monkey has been a to to the the. . He is the the bottle to its mouth.\n",
      "\n",
      "\n",
      "post-edit:\n",
      "\n",
      "Indonesia video shows a monkey interacting with a tour guide, who squirts water at the primate from a hole in a water bottle in a bid to cool it down with bottle in hand, the monkey took a drink. \n",
      "\n",
      "\n",
      "NEW ROW\n",
      "\n",
      "sim: 0.5720446373\n",
      "edit: 0.6956521739\n",
      "grammar: 0\n",
      "overall: 0\n",
      "redundancy: -1\n",
      "\n",
      "reference:\n",
      "\n",
      "Boy fell down hole in Peterborough, Cambridgeshire, and trapped his leg. Rescue crews worked to free the boy, who remained stuck for half an hour. Loose plastic drain cover thought to have been kicked out of position. Do you know the boy? Email khaleda.rahman@mailonline.co.uk.\n",
      "\n",
      "\n",
      "system:\n",
      "\n",
      "A 12-year-old needed to be rescued after falling down an ▃ drain. A 12-year-old needed to be rescued after falling down an ▃ drain. A 12-year-old boy was trapped for more than half an hour.\n",
      "\n",
      "\n",
      "post-edit:\n",
      "\n",
      "A 12-year-old needed to be rescued after falling down an ▃ drain. He was trapped for more than half an hour.\n",
      "\n",
      "\n"
     ]
    }
   ],
   "source": [
    "import pandas as pd\n",
    "df = pd.read_json(\"./CDMEvaluationData/highsim_highedit.jsonl\", lines=True)\n",
    "sample_rows = df.sample(5, random_state=99)\n",
    "\n",
    "for _, row in sample_rows.iterrows():\n",
    "    print(\"NEW ROW\\n\")\n",
    "    print(\"sim: \" + str(row[\"sim\"]))\n",
    "    print(\"edit: \" + str(row[\"hter\"]))\n",
    "    print(\"grammar: \" + str(row[\"grammar\"]))\n",
    "    print(\"overall: \" + str(row[\"overall\"]))\n",
    "    print(\"redundancy: \" + str(row[\"redundancy\"]) + \"\\n\")\n",
    "    print(\"reference:\\n\\n\" + row[\"reference\"] + \"\\n\\n\")\n",
    "    print(\"system:\\n\\n\" + row[\"system_summary\"] + \"\\n\\n\")\n",
    "    print(\"post-edit:\\n\\n\" + row[\"edit\"] + \"\\n\\n\")\n"
   ]
  },
  {
   "cell_type": "markdown",
   "metadata": {},
   "source": [
    "\n",
    "* In first summary, we can see that we get a high vector similarity.  However, we are unable to capture the fact that the two sentences in the summary are exactly identical, which is very bad.  We see this reflected with a low redundancy score by the human annotator. The high edit score comes from the entire second sentence being removed, as it is nearly identical to the first.\n",
    "* In the second summary, we see that the first sentence is very good.  However, the second sentence is both redundant and grammatically incorrect, randomly containing the word gazelle in a summary that should be about same-sex weddings.  In this case, it looks very difficult to accurately evaluate the overall value for the summary as well as grammar.  The second sentence is quite bad, and so does that mean that the entire summary should receive a score for overall and grammar that is bad?  Or should it be average because the first sentence is good?  It seems like it would be useful to have a metric here that reports whether the article contains fabrications or entirely irrelevant content.  Overall, this shows that high similarity can tell you that we have a summary with some relevant words and phrases, but does not guarantee that it will be cohesive or grammatically correct.\n",
    "* Third summary:  first sentence contains a phrase in  the beginning that does not make sense and is questionable for being grammatically correct.  The second sentence is nearly the same and is redundant.  However, we see that the human annotator gives a redundancy score of 2 on a 1-3 scale, and the same for grammar.  This is a bit confusing, because it is clearly very redundant.  \n",
    "* Fourth Summary:  The first sentence is mostly coherent and correct, with a phrase at the end that is nonsense.  The latter 2 sentences are quite bad.  They are nonsensical and grammatically incorrect.  This shows yet again that just because the words and phrases contained in a summary may have similar meaning individually, vector similarity fails to truly capture meaning and a measure of grammatical correctness.\n",
    "* Fifth summary: First sentence is good, and second and third are redundant.  VecSim ignores redundancy.  Can we somehow factor in redundancy into the calculation of VecSim depending on the task?\n",
    "\n",
    "\n",
    "\n",
    "\n",
    "\n",
    "Overall, we see that VecSim ignores redundancy and grammatical correctness.  This is why we end up getting a high edit rate for these summaries. \n"
   ]
  },
  {
   "cell_type": "markdown",
   "metadata": {},
   "source": [
    "Means of stats"
   ]
  },
  {
   "cell_type": "code",
   "execution_count": 24,
   "metadata": {},
   "outputs": [
    {
     "data": {
      "text/plain": [
       "sim           0.661364\n",
       "hter          0.747292\n",
       "redundancy   -0.381854\n",
       "overall      -0.290130\n",
       "grammar      -0.106680\n",
       "dtype: float64"
      ]
     },
     "execution_count": 24,
     "metadata": {},
     "output_type": "execute_result"
    }
   ],
   "source": [
    "\n",
    "df[[\"sim\", \"hter\", \"redundancy\", \"overall\", \"grammar\"]].mean()\n"
   ]
  },
  {
   "cell_type": "markdown",
   "metadata": {},
   "source": [
    "Variances of stats"
   ]
  },
  {
   "cell_type": "code",
   "execution_count": 29,
   "metadata": {},
   "outputs": [
    {
     "data": {
      "text/plain": [
       "sim           0.008252\n",
       "hter          0.284842\n",
       "redundancy    0.455838\n",
       "overall       0.238096\n",
       "grammar       0.376832\n",
       "dtype: float64"
      ]
     },
     "execution_count": 29,
     "metadata": {},
     "output_type": "execute_result"
    }
   ],
   "source": [
    "df[[\"sim\", \"hter\", \"redundancy\", \"overall\", \"grammar\"]].var()"
   ]
  }
 ],
 "metadata": {
  "kernelspec": {
   "display_name": "Python 3",
   "language": "python",
   "name": "python3"
  },
  "language_info": {
   "codemirror_mode": {
    "name": "ipython",
    "version": 3
   },
   "file_extension": ".py",
   "mimetype": "text/x-python",
   "name": "python",
   "nbconvert_exporter": "python",
   "pygments_lexer": "ipython3",
   "version": "3.6.3"
  }
 },
 "nbformat": 4,
 "nbformat_minor": 2
}
