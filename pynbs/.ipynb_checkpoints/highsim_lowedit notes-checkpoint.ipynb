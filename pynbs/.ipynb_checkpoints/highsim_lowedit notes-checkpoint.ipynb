{
 "cells": [
  {
   "cell_type": "markdown",
   "metadata": {},
   "source": [
    "\n",
    "\n",
    "This is the file where we look at the summaries that performed well on vector similarity and did not require a lot of editing.\n",
    "\n",
    "\n",
    "\n",
    "The analysis of the summaries is at the bottom.\n",
    "\n"
   ]
  },
  {
   "cell_type": "code",
   "execution_count": 1,
   "metadata": {
    "scrolled": false
   },
   "outputs": [
    {
     "name": "stdout",
     "output_type": "stream",
     "text": [
      "NEW ROW\n",
      "\n",
      "sim: 0.775740041\n",
      "edit: 0.022222222200000002\n",
      "grammar: 0\n",
      "overall: 1\n",
      "redundancy: 1\n",
      "\n",
      "reference:\n",
      "\n",
      "An Amnesty International report calls for attacks on women's rights activists in Afghanistan to be investigated. The report examines the persecution of activists not only by the Taliban and tribal warlords, but also by government officials. Some activists continue their work despite their lives being at risk.\n",
      "\n",
      "\n",
      "system:\n",
      "\n",
      "Amnesty International report is urging authorities to address the number of attacks on women's rights activists in Afghanistan. The report, entitled \"their lives on the line, examines the persecution of activists and other champions of women's rights.\n",
      "\n",
      "\n",
      "post-edit:\n",
      "\n",
      "Amnesty International report is urging authorities to address the number of attacks on women's rights activists in Afghanistan. The report, entitled \"their lives on the line,\" examines the persecution of activists and other champions of women's rights.\n",
      "\n",
      "\n",
      "NEW ROW\n",
      "\n",
      "sim: 0.7139402159\n",
      "edit: 0.0\n",
      "grammar: 1\n",
      "overall: 1\n",
      "redundancy: 1\n",
      "\n",
      "reference:\n",
      "\n",
      "Ellie Harrison says she 'accepts' that she will one day be replaced. She has previously been asked to be less 'Hollywood' on screen a comment she believes refers to her blonde hair. In 0000 BBC came under fire for dropping former Countryfile presenter Miriam O'Reilly who successfully sued them in 0000.\n",
      "\n",
      "\n",
      "system:\n",
      "\n",
      "Countryfile presenter Ellie Harrison said that she will be ' the next year '. The mother-of-two joined the programme in ▃ to launch a service for women facing discrimination in the workplace. She said she wouldn't be surprised if she was replaced in ▃. She was asked by producers to be 'less present' a comment.\n",
      "\n",
      "\n",
      "post-edit:\n",
      "\n",
      "Countryfile presenter Ellie Harrison said that she will be ' the next year '. The mother-of-two joined the programme in ▃ to launch a service for women facing discrimination in the workplace. She said she wouldn't be surprised if she was replaced in ▃. She was asked by producers to be 'less present' a comment.\n",
      "\n",
      "\n",
      "NEW ROW\n",
      "\n",
      "sim: 0.5209952312\n",
      "edit: 0.0\n",
      "grammar: 1\n",
      "overall: 1\n",
      "redundancy: 1\n",
      "\n",
      "reference:\n",
      "\n",
      "Spurs manager wants to speak to FA over Kane's involvement in the U21 European Championships. Spurs striker is available despite breaking into England senior squad. Kane and Spurs will travel to Australia and Malaysia for post-season tour.\n",
      "\n",
      "\n",
      "system:\n",
      "\n",
      "Mauricio Pochettino wants to sign Harry ▃ role in the European under 21 championship. Tottenham are interested in the forthcoming European under 21 championship. The Frenchman will be available for the competition in the Czech Republic.\n",
      "\n",
      "\n",
      "post-edit:\n",
      "\n",
      "Mauricio Pochettino wants to sign Harry ▃ role in the European under 21 championship. Tottenham are interested in the forthcoming European under 21 championship. The Frenchman will be available for the competition in the Czech Republic.\n",
      "\n",
      "\n",
      "NEW ROW\n",
      "\n",
      "sim: 0.6984663481000001\n",
      "edit: 0.08163265310000001\n",
      "grammar: 0\n",
      "overall: 0\n",
      "redundancy: 0\n",
      "\n",
      "reference:\n",
      "\n",
      "Country band Lady Antebellum's bus caught fire thursday on a Texas freeway. A CNN iReporter captured the dramatic scene on video. Singer Hillary Scott shared a pic of the charred bus on Instagram.\n",
      "\n",
      "\n",
      "system:\n",
      "\n",
      "Lady Antebellum singer Hillary Scott's tour bus caught fire on a Texas freeway. The video of the fire, on Interstate 3▃ just northeast of Dallas, and uploaded it to CNN iReport. Hillary Scott, the tour manager and the driver were all evacuated safely.\n",
      "\n",
      "\n",
      "post-edit:\n",
      "\n",
      "Lady Antebellum singer Hillary Scott's tour bus caught fire on a Texas freeway. The video of the fire, on Interstate 3▃ just northeast of Dallas, was uploaded to CNN iReport. Scott, the tour manager, and the driver were all evacuated safely.\n",
      "\n",
      "\n",
      "NEW ROW\n",
      "\n",
      "sim: 0.5851701979\n",
      "edit: 0.0\n",
      "grammar: 1\n",
      "overall: 1\n",
      "redundancy: 1\n",
      "\n",
      "reference:\n",
      "\n",
      "Group released in northern Iraq made up of 00 children, women and elderly. Were piled onto a minibus that then drove them to peshmerga positions. Prisoners spent nearly a year in Isis captivity, Kurdish military has said. No explanation has been given as to why the 000 Yazidis were released.\n",
      "\n",
      "\n",
      "system:\n",
      "\n",
      "More than ▃ Yazidis prisoners have been held captive since last summer. They were taken away by ambulances and buses to peshmerga positions. One woman is being cared for by peshmerga troops while a young girl cries as she is being offered water by a Kuridsh soldier.\n",
      "\n",
      "\n",
      "post-edit:\n",
      "\n",
      "More than ▃ Yazidis prisoners have been held captive since last summer. They were taken away by ambulances and buses to peshmerga positions. One woman is being cared for by peshmerga troops while a young girl cries as she is being offered water by a Kuridsh soldier.\n",
      "\n",
      "\n"
     ]
    }
   ],
   "source": [
    "import pandas as pd\n",
    "df = pd.read_json(\"./CDMEvaluationData/highsim_lowedit.jsonl\", lines=True)\n",
    "sample_rows = df.sample(5, random_state=100)\n",
    "\n",
    "for _, row in sample_rows.iterrows():\n",
    "    print(\"NEW ROW\\n\")\n",
    "    print(\"sim: \" + str(row[\"sim\"]))\n",
    "    print(\"edit: \" + str(row[\"hter\"]))\n",
    "    print(\"grammar: \" + str(row[\"grammar\"]))\n",
    "    print(\"overall: \" + str(row[\"overall\"]))\n",
    "    print(\"redundancy: \" + str(row[\"redundancy\"]) + \"\\n\")\n",
    "    print(\"reference:\\n\\n\" + row[\"reference\"] + \"\\n\\n\")\n",
    "    print(\"system:\\n\\n\" + row[\"system_summary\"] + \"\\n\\n\")\n",
    "    print(\"post-edit:\\n\\n\" + row[\"edit\"] + \"\\n\\n\")\n"
   ]
  },
  {
   "cell_type": "markdown",
   "metadata": {},
   "source": [
    "\n",
    "\n",
    "\n",
    "#Analysis\n",
    "\n",
    "\n",
    "\n",
    "\n",
    "* First summary: This summary is great, and is well represented by the evaluation metrics.  The only problem is a missing quotation mark that the annotator corrects.  This shows a stark contrast from the high similarity high edit human scores.  This requires only 1 small grammar change but still is given a 2 for grammar.  It seems like there were summaries that were far worse grammatically than this one that also received a 2.\n",
    "* Second summary: It is certainly not awful, but contains some spots where it seems like edits should have been made.  This shows again that VecSim misses grammaticality.\n",
    "* Third Summary: the metrics correctly indicate a good summary and there is no edit required\n",
    "* Fourth Summary:  The first sentence is good but then the second has a quite bad grammatical error.  I think redundancy should have been given a better score, just to note.  The metrics of VecSim and Edit dist would indicate this is a good summary, however, the grammar error in the second sentence is quite bad and a good metric should be penalized for this.\n",
    "* Fifth Summary:  To me it seems that this summary misses some transitional elements but for the most part can agree with the metrics.\n",
    "\n",
    "\n",
    "\n",
    "It is hard for a human evaluate a summary using scales for various features, so I think the edit value is a step in the right direction in removing the sense of arbitrariness that we get when we are using the 1-3 scale like they are here.  Additionally, I think we can benefit from understanding what actually has been removed from a summary, whether it be redundant info or fixes of grammar.  In the latter case, we can see that a small change edit distance wise can fix a sentence, but it may be a quite bad error even if it is small."
   ]
  },
  {
   "cell_type": "markdown",
   "metadata": {},
   "source": [
    "Means of stats"
   ]
  },
  {
   "cell_type": "code",
   "execution_count": 2,
   "metadata": {},
   "outputs": [
    {
     "data": {
      "text/plain": [
       "sim           0.685491\n",
       "hter          0.070238\n",
       "redundancy    0.614120\n",
       "overall       0.405304\n",
       "grammar       0.469182\n",
       "dtype: float64"
      ]
     },
     "execution_count": 2,
     "metadata": {},
     "output_type": "execute_result"
    }
   ],
   "source": [
    "\n",
    "df[[\"sim\", \"hter\", \"redundancy\", \"overall\", \"grammar\"]].mean()\n"
   ]
  },
  {
   "cell_type": "markdown",
   "metadata": {},
   "source": [
    "Variances of stats"
   ]
  },
  {
   "cell_type": "code",
   "execution_count": 3,
   "metadata": {},
   "outputs": [
    {
     "data": {
      "text/plain": [
       "sim           0.006760\n",
       "hter          0.006962\n",
       "redundancy    0.340204\n",
       "overall       0.333051\n",
       "grammar       0.342566\n",
       "dtype: float64"
      ]
     },
     "execution_count": 3,
     "metadata": {},
     "output_type": "execute_result"
    }
   ],
   "source": [
    "df[[\"sim\", \"hter\", \"redundancy\", \"overall\", \"grammar\"]].var()"
   ]
  }
 ],
 "metadata": {
  "kernelspec": {
   "display_name": "Python 3",
   "language": "python",
   "name": "python3"
  },
  "language_info": {
   "codemirror_mode": {
    "name": "ipython",
    "version": 3
   },
   "file_extension": ".py",
   "mimetype": "text/x-python",
   "name": "python",
   "nbconvert_exporter": "python",
   "pygments_lexer": "ipython3",
   "version": "3.6.3"
  }
 },
 "nbformat": 4,
 "nbformat_minor": 2
}
