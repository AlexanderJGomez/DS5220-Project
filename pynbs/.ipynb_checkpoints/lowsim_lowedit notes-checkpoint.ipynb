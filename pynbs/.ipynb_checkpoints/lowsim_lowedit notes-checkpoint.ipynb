{
 "cells": [
  {
   "cell_type": "markdown",
   "metadata": {},
   "source": [
    "This is the file where we look at the summaries that poorly on vector similarity but did not require a lot of editing."
   ]
  },
  {
   "cell_type": "code",
   "execution_count": 1,
   "metadata": {
    "scrolled": false
   },
   "outputs": [
    {
     "name": "stdout",
     "output_type": "stream",
     "text": [
      "NEW ROW\n",
      "\n",
      "sim: 0.38424618660000004\n",
      "edit: 0.064516129\n",
      "grammar: 0\n",
      "overall: 0\n",
      "redundancy: 1\n",
      "\n",
      "reference:\n",
      "\n",
      "International Fellowship of Christians and Jews has brought 000 Jews to Israel since december. The Margolin family is among them ; their home in Eastern Ukraine was bombed.\n",
      "\n",
      "\n",
      "system:\n",
      "\n",
      "Margolin was a ▃-year-old Jewish recruit when he fought in the Soviet. He fought the Nazis in World War II, his family fled. He was a sniper who rose to be a commander in the army. . Margolin says he was to survive another, even as the stray missile hit his house on february ▃.\n",
      "\n",
      "\n",
      "post-edit:\n",
      "\n",
      "Margolin was a ▃-year-old Jewish recruit when he fought for the Soviet. He fought the Nazis in World War II.  His family fled. He was a sniper who rose to be a commander in the army. . Margolin says he was meant to survive another, even as the stray missile hit his house on february ▃.\n",
      "\n",
      "\n",
      "NEW ROW\n",
      "\n",
      "sim: 0.4851704195\n",
      "edit: 0.0416666667\n",
      "grammar: 0\n",
      "overall: 1\n",
      "redundancy: 1\n",
      "\n",
      "reference:\n",
      "\n",
      "Danish scientists studied ice hidden under the surface of Mars. Dust is thought to be covering huge glaciers on the surface. And the researchers say there is more water-ice than anticipated. If spread out it would cover the surface in 0.0ft (0.0 metres) of ice.\n",
      "\n",
      "\n",
      "system:\n",
      "\n",
      "Scientists at the ▃ ▃ institute at the University of Copenhagen, found evidence of water on Mars dates back to the pleasant 9 mission, which arrived in 1971. Discovery sheds water erosion in river beds and canyons as well as weather fronts and ▃.\n",
      "\n",
      "\n",
      "post-edit:\n",
      "\n",
      "Scientists at the ▃ ▃ institute at the University of Copenhagen, found evidence of water on Mars dating back to the pleasant 9 mission, which arrived in 1971. Discovery shows water erosion in river beds and canyons as well as weather fronts and ▃.\n",
      "\n",
      "\n",
      "NEW ROW\n",
      "\n",
      "sim: 0.4968111216\n",
      "edit: 0.030769230800000002\n",
      "grammar: 1\n",
      "overall: 0\n",
      "redundancy: 0\n",
      "\n",
      "reference:\n",
      "\n",
      "Patrick and Valerie Jubb purchased the property in Andalusia in 0000. They said the alterations had been legalised by land registry officials. Couple also said a certificate listed no infractions at time of purchase. When they tried to sell local authorities said the alterations were illegal. Town hall said normal rules do not apply as estate is in a natural park.\n",
      "\n",
      "\n",
      "system:\n",
      "\n",
      "Patrick and Valerie Jubb are attempting to sell the four-bedroom property. It is now on the brink of being torn down. Patrick, a former engineer from London, and his 63-year-old wife, Valerie, bought the bed and breakfast, La Vina de Linan, closed it a year ago as they moved forward with plans to sell it.\n",
      "\n",
      "\n",
      "post-edit:\n",
      "\n",
      "Patrick and Valerie Jubb are attempting to sell their four-bedroom property. It is now on the brink of being torn down. Patrick, a former engineer from London, and his 63-year-old wife, Valerie, bought the bed and breakfast, La Vina de Linan, and closed it a year ago as they moved forward with plans to sell it.\n",
      "\n",
      "\n",
      "NEW ROW\n",
      "\n",
      "sim: 0.4501497038\n",
      "edit: 0.0\n",
      "grammar: 1\n",
      "overall: 1\n",
      "redundancy: 1\n",
      "\n",
      "reference:\n",
      "\n",
      "Spieth became the second youngest masters winner of all time. His 00-under round was the joint-record and he led from start to finish. Spieth hailed the week at Augusta as the most incredible of his life. 00-year-old admitted that the accolade had not quite sunk in yet. Justin Rose praised Spieth, saying he showed comfort playing with a lead.\n",
      "\n",
      "\n",
      "system:\n",
      "\n",
      "Michael slager, 33, can be heard laughing nervously while talking with a senior officer. The camera continued to record for another hour and a recording of the audio feed, including the conversation between slager and a senior officer, was obtained by The Guardian. Scott was shot five times in the back as he ran away from the traffic stop.\n",
      "\n",
      "\n",
      "post-edit:\n",
      "\n",
      "Michael slager, 33, can be heard laughing nervously while talking with a senior officer. The camera continued to record for another hour and a recording of the audio feed, including the conversation between slager and a senior officer, was obtained by The Guardian. Scott was shot five times in the back as he ran away from the traffic stop.\n",
      "\n",
      "\n",
      "NEW ROW\n",
      "\n",
      "sim: 0.476956676\n",
      "edit: 0.2222222222\n",
      "grammar: 1\n",
      "overall: 0\n",
      "redundancy: 0\n",
      "\n",
      "reference:\n",
      "\n",
      "Sarah Brennan, 00, was on the IVF waiting list when she became pregnant. Project manager from south Wales went into labour at 00 weeks. Couple had ten pregnancies, none of which went past 00 weeks.\n",
      "\n",
      "\n",
      "system:\n",
      "\n",
      "Last year Sarah, 36, and Mark Brennan, 35, from South Wales, never gave up hope of becoming parents despite being told they'd never conceive naturally. Yet last September they defied doctors to have Eryn, who was born seven weeks early, weighing just 3lb 11oz. Sarah and Mark Brennan show off their longed-for daughter Eryn Elisabeth.\n",
      "\n",
      "\n",
      "post-edit:\n",
      "\n",
      "Last year Sarah, 36, and Mark Brennan, 35, from South Wales, never gave up hope of becoming parents despite being told they'd never conceive naturally. Yet last September they defied doctors to have Eryn, who was born seven weeks early, weighing just 3lb 11oz. \n",
      "\n",
      "\n"
     ]
    }
   ],
   "source": [
    "import pandas as pd\n",
    "df = pd.read_json(\"./CDMEvaluationData/lowsim_lowedit.jsonl\", lines=True)\n",
    "sample_rows = df.sample(5, random_state=100)\n",
    "\n",
    "for _, row in sample_rows.iterrows():\n",
    "    print(\"NEW ROW\\n\")\n",
    "    print(\"sim: \" + str(row[\"sim\"]))\n",
    "    print(\"edit: \" + str(row[\"hter\"]))\n",
    "    print(\"grammar: \" + str(row[\"grammar\"]))\n",
    "    print(\"overall: \" + str(row[\"overall\"]))\n",
    "    print(\"redundancy: \" + str(row[\"redundancy\"]) + \"\\n\")\n",
    "    print(\"reference:\\n\\n\" + row[\"reference\"] + \"\\n\\n\")\n",
    "    print(\"system:\\n\\n\" + row[\"system_summary\"] + \"\\n\\n\")\n",
    "    print(\"post-edit:\\n\\n\" + row[\"edit\"] + \"\\n\\n\")\n"
   ]
  },
  {
   "cell_type": "markdown",
   "metadata": {},
   "source": [
    "* first summary: This summary has some minor grammar mistakes.  Sometimes, it is clear what the model is trying to convey with sentences, and the grammar mistakes are minor.  This is certainly a case where the intention is good but the model just misses the mark with small errors that do unfortunately cause the summary to not be great.  This is another testament to the fact that edit does not exactly capture the essence of the changes that are being made.\n",
    "*  second summary:  this summary experiences the sam etypes of troubles as summary 1 relating to the fact that we are using only 1 reference summary in this case and so our VecSim score will suffer, similar to how ROUGE does(although likely to a lesser degree)\n",
    "* third summary: another case similar to summ 1 and 2.  The problem persists in that we cannot possible cover the entire space of possible summaries with 1 reference summary.  Also, one missing conjunction leads to a 2 on both overall and grammar score which is quite surprising.  Another reason why these scores are a bit arbitrary.\n",
    "* fourth summary:  not sure what happened here.  strange data error?\n",
    "* fifth:  a bit of redundancy but not too bad\n",
    "\n",
    "Vec Sim can get into the same kind of trouble that ROUGE does when dealing with low counts of reference summaries.  I think that the issues are certainly reduced when using VecSim over some word overlap metric, but the potential for this to happen is still there."
   ]
  },
  {
   "cell_type": "markdown",
   "metadata": {},
   "source": [
    "Means of stats"
   ]
  },
  {
   "cell_type": "code",
   "execution_count": 2,
   "metadata": {},
   "outputs": [
    {
     "data": {
      "text/plain": [
       "sim           0.429191\n",
       "hter          0.070118\n",
       "redundancy    0.661417\n",
       "overall       0.448819\n",
       "grammar       0.551181\n",
       "dtype: float64"
      ]
     },
     "execution_count": 2,
     "metadata": {},
     "output_type": "execute_result"
    }
   ],
   "source": [
    "\n",
    "df[[\"sim\", \"hter\", \"redundancy\", \"overall\", \"grammar\"]].mean()\n"
   ]
  },
  {
   "cell_type": "markdown",
   "metadata": {},
   "source": [
    "Variances of stats"
   ]
  },
  {
   "cell_type": "code",
   "execution_count": 3,
   "metadata": {},
   "outputs": [
    {
     "data": {
      "text/plain": [
       "sim           0.004410\n",
       "hter          0.007521\n",
       "redundancy    0.289214\n",
       "overall       0.328709\n",
       "grammar       0.328709\n",
       "dtype: float64"
      ]
     },
     "execution_count": 3,
     "metadata": {},
     "output_type": "execute_result"
    }
   ],
   "source": [
    "df[[\"sim\", \"hter\", \"redundancy\", \"overall\", \"grammar\"]].var()"
   ]
  }
 ],
 "metadata": {
  "kernelspec": {
   "display_name": "Python 3",
   "language": "python",
   "name": "python3"
  },
  "language_info": {
   "codemirror_mode": {
    "name": "ipython",
    "version": 3
   },
   "file_extension": ".py",
   "mimetype": "text/x-python",
   "name": "python",
   "nbconvert_exporter": "python",
   "pygments_lexer": "ipython3",
   "version": "3.6.3"
  }
 },
 "nbformat": 4,
 "nbformat_minor": 2
}
