{
 "cells": [
  {
   "cell_type": "markdown",
   "metadata": {},
   "source": [
    "This is the file where we look at the summaries that poorly on vector similarity and also require a lot of editing."
   ]
  },
  {
   "cell_type": "code",
   "execution_count": 1,
   "metadata": {
    "scrolled": false
   },
   "outputs": [
    {
     "name": "stdout",
     "output_type": "stream",
     "text": [
      "NEW ROW\n",
      "\n",
      "sim: 0.48578557250000004\n",
      "edit: 0.48275862070000003\n",
      "grammar: -1\n",
      "overall: -1\n",
      "redundancy: -1\n",
      "\n",
      "reference:\n",
      "\n",
      "Bettie Jo, 00, from Houston, was morbidly obese at almost 00st (000lbs). Josh tended to her basic needs including showering and eating. Last year she was given bariatric surgery. Josh sabotaged her efforts to diet as still wanted to feel needed. Relationship therapy and near death scare helped couple back on track. With Josh's help Bettie Jo now weighs 00st 0lbs.\n",
      "\n",
      "\n",
      "system:\n",
      "\n",
      "▃ Jo, from Houston, Texas, was unable to care for her husband. Now weighs ▃ 8lbs, from Houston, from Houston, Texas. Now weighs ▃ 8lbs and can stand up on her own.\n",
      "\n",
      "\n",
      "post-edit:\n",
      "\n",
      "▃ Jo, from Houston, Texas, was unable to care for her husband. She now weighs ▃ 8lbs and can stand up on her own.\n",
      "\n",
      "\n",
      "NEW ROW\n",
      "\n",
      "sim: 0.4978538032\n",
      "edit: 0.5769230769\n",
      "grammar: 1\n",
      "overall: 0\n",
      "redundancy: -1\n",
      "\n",
      "reference:\n",
      "\n",
      "Raheem Sterling's contract with Liverpool expires in the summer of 0000. The forward could buy-out the final year of his deal for â£ 0.0million. Liverpool may be forced to accept a much lower bid for the 00-year-old. Slaven Bilic is in the frame to replace Sam Allardyce at West Ham. Southampton set to make summer bid for Man United's Javier Hernandez. Tottenham still interested in move for Aston Villa's Christian Benteke. West Ham determined to keep hold of Chelsea target Aaron Cresswell.\n",
      "\n",
      "\n",
      "system:\n",
      "\n",
      "Raheem Sterling has rejected a new ▃ contract this summer. The 20-year-old could lower his value by ▃ the last year of his contract. The 20-year-old could lower his value by ▃ the last year of his contract.\n",
      "\n",
      "\n",
      "post-edit:\n",
      "\n",
      "Raheem Sterling has rejected a new ▃ contract this summer. The 20-year-old could lower his value by ▃ the last year of his contract.\n",
      "\n",
      "\n",
      "\n",
      "NEW ROW\n",
      "\n",
      "sim: 0.39627587080000004\n",
      "edit: 1.4782608696000001\n",
      "grammar: 0\n",
      "overall: 0\n",
      "redundancy: -1\n",
      "\n",
      "reference:\n",
      "\n",
      "Sky allegedly withdrew their title sponsorship of Under 16 tournament. BT Sport are to broadcast inaugural European Games in Baku in june. Brazilian legend Pele is due in London on thursday for an art exhibition.\n",
      "\n",
      "\n",
      "system:\n",
      "\n",
      "England have pulled out of the tournament with immediate effect in order to achieve a more varied fixture list, including more foreign opposition. The FA announced this week that England are pulling out of event with immediate significant effect. The ▃-year-old will be to a party organised by his agents Ten1▃.\n",
      "\n",
      "\n",
      "post-edit:\n",
      "\n",
      "England has pulled out of the tournament immediately in order to achieve a more varied fixture list, including more foreign opposition.\n",
      "\n",
      "\n",
      "NEW ROW\n",
      "\n",
      "sim: 0.3620894662\n",
      "edit: 0.7297297297\n",
      "grammar: 0\n",
      "overall: 0\n",
      "redundancy: 0\n",
      "\n",
      "reference:\n",
      "\n",
      "North knocked out after scoring against Wasps on friday. Concussion was the wing's third suffered in recent months. North will sit out saturday's Champions Cup clash on medical advice. Wasps No 0 Nathan Hughes been banned for three weeks for the incident.\n",
      "\n",
      "\n",
      "system:\n",
      "\n",
      "Jordan spieth has hailed the 'most incredible week of his life after winning the masters at Augusta in 39 years. Spieth tied his nerve in Sunday's final round to keep his nerve in Sunday's final round in a ▃ victory. Spieth has hailed the 'most incredible week after winning the masters at Augusta.\n",
      "\n",
      "\n",
      "post-edit:\n",
      "\n",
      "Jordan Spieth has hailed this the 'most incredible week of his life' after winning the masters at Augusta at 39 years old. Spieth tied his nerve in Sunday's final round to his victory. \n",
      "\n",
      "\n",
      "NEW ROW\n",
      "\n",
      "sim: 0.41080882820000003\n",
      "edit: 2.25\n",
      "grammar: 0\n",
      "overall: 0\n",
      "redundancy: -1\n",
      "\n",
      "reference:\n",
      "\n",
      "Astronomers have used a telescope in New Mexico to watch a star form. Named W75N (B)-VLA2 it is 000 times brighter than the sun. Images from 0000 and 0000 show how it is beginning to take shape. It could provide unprecedented insight into how huge stars are born.\n",
      "\n",
      "\n",
      "system:\n",
      "\n",
      "The two images were taken 18 years apart, the first with the Karl ▃. The images were taken 18 years apart, and another from 2014 is on the right right. The images were taken 18 years apart, and another from 2014 is on the right right.\n",
      "\n",
      "\n",
      "post-edit:\n",
      "\n",
      "The two images were taken 18 years apart, the first with the Karl ▃. \n",
      "\n",
      "\n"
     ]
    }
   ],
   "source": [
    "import pandas as pd\n",
    "df = pd.read_json(\"./CDMEvaluationData/lowsim_highedit.jsonl\", lines=True)\n",
    "sample_rows = df.sample(5, random_state=100)\n",
    "\n",
    "for _, row in sample_rows.iterrows():\n",
    "    print(\"NEW ROW\\n\")\n",
    "    print(\"sim: \" + str(row[\"sim\"]))\n",
    "    print(\"edit: \" + str(row[\"hter\"]))\n",
    "    print(\"grammar: \" + str(row[\"grammar\"]))\n",
    "    print(\"overall: \" + str(row[\"overall\"]))\n",
    "    print(\"redundancy: \" + str(row[\"redundancy\"]) + \"\\n\")\n",
    "    print(\"reference:\\n\\n\" + row[\"reference\"] + \"\\n\\n\")\n",
    "    print(\"system:\\n\\n\" + row[\"system_summary\"] + \"\\n\\n\")\n",
    "    print(\"post-edit:\\n\\n\" + row[\"edit\"] + \"\\n\\n\")\n"
   ]
  },
  {
   "cell_type": "markdown",
   "metadata": {},
   "source": [
    "* summary 1:  this summary is nonsensical, has poor grammaticality, and is not cohesive at all.  The metrics accurately indicate this is a poor summary. \n",
    "* summary 2:  this summary is quite average relative to the other ones in this dataset.  The first sentence is good but then it is followed up with a redundant second sentence.  It is quite average and the metrics do convey that to some degree.  I think that a better metric would clearly indicate that this is not a good summary, though.  It may decent relative to the others in this dataset but it is by no means good.  \n",
    "* summary 3:  i think this summary fails to be penalized enough for its redundancy in the Vec Sim metric, and is also not penalized enough in the scaled metrics.  The edit metric does a good job of showing how poor the article is.\n",
    "* summary 4: I cannot tell if the reference summary and system summary are from the same article.  However, I can still compare the system and post-edit summaries.  This system summary is very bad grammatically and in terms of redundancy and I think that edit could penalize the summary more than it is.  From any good metric, we should be able to see that this is a very bad summary.\n",
    "* summary 5: This summary is redundant and contains many grammatical errors.However, the first sentence does not contain any errors, and so we see that the human annotator just leaves the first sentence there in post editing.  The edit value is high for this on because of the large amount of redundant content removed, and so it is able to well represent that this summary is bad because we had to remove a lot of content.\n",
    "\n",
    "These summaries have helped show me that edit distance seemingly does better than scale human evaluation metrics.  If the edit distance could be supplemented to include impact of deletions, insertions, etc.  I think we could come up with an even better metric.  Also, it seems that when a summary is very very bad, it can be very hard to form a base off of which to create meaningful edits without creating an entirely new piece of content.  In an effort to not create something entirely new, it seems people get lazy with leaving the post-edited system summary in a good place.  "
   ]
  },
  {
   "cell_type": "markdown",
   "metadata": {},
   "source": [
    "Means of stats"
   ]
  },
  {
   "cell_type": "code",
   "execution_count": 2,
   "metadata": {},
   "outputs": [
    {
     "data": {
      "text/plain": [
       "sim           0.419880\n",
       "hter          1.275264\n",
       "redundancy   -0.650862\n",
       "overall      -0.491379\n",
       "grammar      -0.150862\n",
       "dtype: float64"
      ]
     },
     "execution_count": 2,
     "metadata": {},
     "output_type": "execute_result"
    }
   ],
   "source": [
    "\n",
    "df[[\"sim\", \"hter\", \"redundancy\", \"overall\", \"grammar\"]].mean()\n"
   ]
  },
  {
   "cell_type": "markdown",
   "metadata": {},
   "source": [
    "Variances of stats"
   ]
  },
  {
   "cell_type": "code",
   "execution_count": 3,
   "metadata": {},
   "outputs": [
    {
     "data": {
      "text/plain": [
       "sim           0.005032\n",
       "hter          0.775043\n",
       "redundancy    0.323462\n",
       "overall       0.259666\n",
       "grammar       0.449004\n",
       "dtype: float64"
      ]
     },
     "execution_count": 3,
     "metadata": {},
     "output_type": "execute_result"
    }
   ],
   "source": [
    "df[[\"sim\", \"hter\", \"redundancy\", \"overall\", \"grammar\"]].var()"
   ]
  }
 ],
 "metadata": {
  "kernelspec": {
   "display_name": "Python 3",
   "language": "python",
   "name": "python3"
  },
  "language_info": {
   "codemirror_mode": {
    "name": "ipython",
    "version": 3
   },
   "file_extension": ".py",
   "mimetype": "text/x-python",
   "name": "python",
   "nbconvert_exporter": "python",
   "pygments_lexer": "ipython3",
   "version": "3.6.3"
  }
 },
 "nbformat": 4,
 "nbformat_minor": 2
}
