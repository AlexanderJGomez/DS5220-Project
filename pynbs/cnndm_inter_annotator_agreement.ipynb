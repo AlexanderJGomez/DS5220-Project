{
 "cells": [
  {
   "cell_type": "code",
   "execution_count": 3,
   "metadata": {},
   "outputs": [
    {
     "name": "stdout",
     "output_type": "stream",
     "text": [
      "Alphas for entire dataset:\n",
      "1997\n",
      "system overall krippendorff alpha 0.331\n",
      "system redundancy krippendorff alpha 0.524\n",
      "system grammar krippendorff alpha 0.237\n"
     ]
    }
   ],
   "source": [
    "import pandas as pd\n",
    "import numpy as np\n",
    "import sqlite3\n",
    "import krippendorff\n",
    "\n",
    "\n",
    "conn = sqlite3.connect(\"../data/cdm_postedits.db\")\n",
    "df = pd.read_sql_query(\"SELECT * FROM cdm_postedits\", conn)\n",
    "conn.close()\n",
    "\n",
    "all_rows = df.astype({\"id\":np.str})\n",
    "\n",
    "def calculate_alphas(df):\n",
    "    system_ids = list(set(df.id + df.system))\n",
    "    system_ids_map = {x: ind for ind, x in enumerate(system_ids)}\n",
    "\n",
    "    system_summary_size = len(system_ids)\n",
    "    annotator_ids = list(set(df.annotator_id))\n",
    "    print(system_summary_size)\n",
    "    df = df.set_index(\"annotator_id\")\n",
    "\n",
    "    metric_alphas = []\n",
    "    for metric in [\"overall\", \"redundancy\", \"grammar\"]:\n",
    "        krippendorff_input = []\n",
    "        for annotator_id in annotator_ids:\n",
    "            annotator_scores = [np.nan] * system_summary_size\n",
    "            annotations = df.loc[[annotator_id]]\n",
    "            for _, annotation in annotations.iterrows():\n",
    "                annotator_scores[system_ids_map[annotation[\"id\"] + annotation[\"system\"]]] = annotation[metric]\n",
    "            krippendorff_input.append(annotator_scores)\n",
    "        metric_alphas.append(krippendorff.alpha(reliability_data=krippendorff_input))\n",
    "\n",
    "    print(\"system overall krippendorff alpha %0.3f\" % metric_alphas[0])\n",
    "    print(\"system redundancy krippendorff alpha %0.3f\" % metric_alphas[1])\n",
    "    print(\"system grammar krippendorff alpha %0.3f\" % metric_alphas[2])\n",
    "    \n",
    "print(\"Alphas for entire dataset:\")\n",
    "calculate_alphas(all_rows)"
   ]
  }
 ],
 "metadata": {
  "kernelspec": {
   "display_name": "Python 3",
   "language": "python",
   "name": "python3"
  },
  "language_info": {
   "codemirror_mode": {
    "name": "ipython",
    "version": 3
   },
   "file_extension": ".py",
   "mimetype": "text/x-python",
   "name": "python",
   "nbconvert_exporter": "python",
   "pygments_lexer": "ipython3",
   "version": "3.6.3"
  }
 },
 "nbformat": 4,
 "nbformat_minor": 2
}
